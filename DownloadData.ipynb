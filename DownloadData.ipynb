{
 "cells": [
  {
   "cell_type": "code",
   "execution_count": 26,
   "metadata": {},
   "outputs": [],
   "source": [
    "import tushare as ts\n",
    "import pymongo\n",
    "import datetime\n",
    "client = pymongo.MongoClient(\"127.0.0.1\", 27017)"
   ]
  },
  {
   "cell_type": "code",
   "execution_count": 16,
   "metadata": {},
   "outputs": [],
   "source": [
    "def getOneStockHistoryData(code, startDate):\n",
    "    res = ts.get_k_data(code, start=startDate)\n",
    "    db = client.Trade\n",
    "    collection = db[code]\n",
    "    count = 0\n",
    "    for k, v in res.iterrows():\n",
    "        date = datetime.datetime.strptime(str(v.date), \"%Y-%m-%d\")\n",
    "        item = {\n",
    "            \"date\": date,\n",
    "            \"open\": v.open,\n",
    "            \"close\": v.close,\n",
    "            \"high\": v.high,\n",
    "            \"low\": v.low,\n",
    "            \"volume\": v.volume\n",
    "        }\n",
    "\n",
    "        if not collection.find_one({\"date\": date}):\n",
    "            collection.insert_one(item)\n",
    "            count = count + 1\n",
    "    \n",
    "    if count > 0:\n",
    "        print(\"%s - %s rows updated\" % (code, count))"
   ]
  },
  {
   "cell_type": "code",
   "execution_count": 17,
   "metadata": {},
   "outputs": [],
   "source": [
    "def getHistoryData():\n",
    "    collection = client.Common.Stock\n",
    "    today = datetime.datetime.now().replace(hour=0, minute=0, second=0, microsecond=0)\n",
    "    stocks = collection.find({})\n",
    "    count = 0\n",
    "    for v in stocks:\n",
    "        code = v[\"code\"]\n",
    "        if \"kEndDate\" in v:\n",
    "            date = v[\"kEndDate\"] + datetime.timedelta(days=-1)\n",
    "        elif \"foundTime\" in v:\n",
    "            date = v[\"foundTime\"]\n",
    "        else:\n",
    "            date = datetime.datetime(2000, 1, 1)\n",
    "        getOneStockHistoryData(code, date.strftime(\"%Y-%m-%d\"))\n",
    "        collection.update_one({\"code\": code}, {\"$set\": {\"kEndDate\": today}})\n",
    "        count = count + 1\n",
    "        if count % 500 == 0:\n",
    "            print(\"%s processed\" % (count))"
   ]
  },
  {
   "cell_type": "code",
   "execution_count": 27,
   "metadata": {},
   "outputs": [],
   "source": [
    "def getTodayData():\n",
    "    df = ts.get_today_all()\n",
    "    today = datetime.datetime.now().replace(hour=0, minute=0, second=0, microsecond=0)\n",
    "    for _,v in df.iterrows():\n",
    "        item = {\n",
    "            \"volume\": v.volume / 100,\n",
    "            \"high\": v.high,\n",
    "            \"low\": v.low,\n",
    "            \"date\": today,\n",
    "            \"close\": v.trade,\n",
    "            \"open\": v.open,\n",
    "            \"amount\": v.amount,\n",
    "            \"last_close\": v.settlement,\n",
    "            \"tradeValue\": v.nmc,\n",
    "        }\n",
    "        code = v.code\n",
    "        collection = client.Trade[code]\n",
    "        collection.replace_one({\"date\": today}, item, upsert=True)\n",
    "    print(\"Done\")"
   ]
  },
  {
   "cell_type": "code",
   "execution_count": 30,
   "metadata": {},
   "outputs": [
    {
     "name": "stdout",
     "output_type": "stream",
     "text": [
      "[Getting data:]############################################################Done\n"
     ]
    }
   ],
   "source": [
    "getTodayData()"
   ]
  },
  {
   "cell_type": "code",
   "execution_count": null,
   "metadata": {},
   "outputs": [],
   "source": []
  }
 ],
 "metadata": {
  "kernelspec": {
   "display_name": "Python 2",
   "language": "python",
   "name": "python2"
  },
  "language_info": {
   "codemirror_mode": {
    "name": "ipython",
    "version": 2
   },
   "file_extension": ".py",
   "mimetype": "text/x-python",
   "name": "python",
   "nbconvert_exporter": "python",
   "pygments_lexer": "ipython2",
   "version": "2.7.14"
  }
 },
 "nbformat": 4,
 "nbformat_minor": 2
}
