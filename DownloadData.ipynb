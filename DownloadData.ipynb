{
 "cells": [
  {
   "cell_type": "code",
   "execution_count": 1,
   "metadata": {},
   "outputs": [],
   "source": [
    "import tushare as ts\n",
    "import pymongo\n",
    "import datetime\n",
    "client = pymongo.MongoClient(\"127.0.0.1\", 27017)"
   ]
  },
  {
   "cell_type": "code",
   "execution_count": 2,
   "metadata": {},
   "outputs": [],
   "source": [
    "def getOneStockHistoryData(code, startDate):\n",
    "    res = ts.get_k_data(code, start=startDate)\n",
    "    db = client.Trade\n",
    "    collection = db[code]\n",
    "    count = 0\n",
    "    for k, v in res.iterrows():\n",
    "        date = datetime.datetime.strptime(str(v.date), \"%Y-%m-%d\")\n",
    "        item = {\n",
    "            \"date\": date,\n",
    "            \"open\": v.open,\n",
    "            \"close\": v.close,\n",
    "            \"high\": v.high,\n",
    "            \"low\": v.low,\n",
    "            \"volume\": v.volume\n",
    "        }\n",
    "\n",
    "        if not collection.find_one({\"date\": date}):\n",
    "            collection.insert_one(item)\n",
    "            count = count + 1\n",
    "    \n",
    "    if count > 0:\n",
    "        print(\"%s - %s rows updated\" % (code, count))"
   ]
  },
  {
   "cell_type": "code",
   "execution_count": 3,
   "metadata": {},
   "outputs": [],
   "source": [
    "def getHistoryData(startDate):\n",
    "    collection = client.Common.Stock\n",
    "    today = datetime.datetime.now().replace(hour=0, minute=0, second=0, microsecond=0)\n",
    "    stocks = collection.find({})\n",
    "    count = 0\n",
    "    for v in stocks:\n",
    "        code = v[\"code\"]\n",
    "        if startDate != None:\n",
    "            date = startDate\n",
    "        elif \"kEndDate\" in v:\n",
    "            date = v[\"kEndDate\"] + datetime.timedelta(days=-1)\n",
    "        elif \"foundTime\" in v:\n",
    "            date = v[\"foundTime\"]\n",
    "        else:\n",
    "            date = datetime.datetime(2000, 1, 1)\n",
    "        getOneStockHistoryData(code, date.strftime(\"%Y-%m-%d\"))\n",
    "        collection.update_one({\"code\": code}, {\"$set\": {\"kEndDate\": today}})\n",
    "        count = count + 1\n",
    "        if count % 500 == 0:\n",
    "            print(\"%s processed\" % (count))"
   ]
  },
  {
   "cell_type": "code",
   "execution_count": 49,
   "metadata": {},
   "outputs": [],
   "source": [
    "def getTodayData():\n",
    "    df = ts.get_today_all()\n",
    "    today = datetime.datetime.now().replace(hour=0, minute=0, second=0, microsecond=0)\n",
    "    for _,v in df.iterrows():\n",
    "        item = {\n",
    "            \"volume\": v.volume / 100,\n",
    "            \"high\": v.high,\n",
    "            \"low\": v.low,\n",
    "            \"date\": today,\n",
    "            \"close\": v.trade,\n",
    "            \"open\": v.open,\n",
    "            \"amount\": v.amount,\n",
    "            \"last_close\": v.settlement,\n",
    "            \"tradeValue\": v.nmc,\n",
    "            \"turnover\": v.turnoverratio\n",
    "        }\n",
    "        code = v.code\n",
    "        collection = client.Trade[code]\n",
    "        collection.replace_one({\"date\": today}, item, upsert=True)\n",
    "    print(\"\\nDone\")"
   ]
  },
  {
   "cell_type": "code",
   "execution_count": 48,
   "metadata": {},
   "outputs": [
    {
     "name": "stdout",
     "output_type": "stream",
     "text": [
      "[Getting data:]############################################################\n",
      "Done\n"
     ]
    }
   ],
   "source": [
    "getTodayData()"
   ]
  },
  {
   "cell_type": "code",
   "execution_count": null,
   "metadata": {},
   "outputs": [],
   "source": [
    "getHistoryData(datetime.datetime(2018,5,24))"
   ]
  },
  {
   "cell_type": "code",
   "execution_count": 36,
   "metadata": {},
   "outputs": [
    {
     "name": "stdout",
     "output_type": "stream",
     "text": [
      "500 processed\n",
      "1000 processed\n",
      "1500 processed\n",
      "2000 processed\n",
      "2500 processed\n",
      "3000 processed\n",
      "3500 processed\n",
      "Done\n"
     ]
    }
   ],
   "source": [
    "def updateOneStockLastClose(code, date):\n",
    "    collection = client.Trade[code]\n",
    "    cursor = collection.find({\"date\":{\"$gte\": date}}, sort=[(\"date\", pymongo.ASCENDING)])\n",
    "    items = list(cursor)\n",
    "    for i in range(1, len(items)):\n",
    "        item = items[i]\n",
    "        last = items[i - 1]\n",
    "        changed = False\n",
    "        update = {}\n",
    "        if \"last_close\" not in item:\n",
    "            changed = True\n",
    "            update[\"last_close\"] = last[\"close\"]\n",
    "            if last[\"close\"] < 0.1:\n",
    "                update[\"last_close\"] = last[\"last_close\"]\n",
    "        if item[\"last_close\"] < 0.1:\n",
    "            update[\"last_close\"] = last[\"last_close\"]\n",
    "            \n",
    "        if \"tradeValue\" not in item:\n",
    "            update[\"tradeValue\"] = last[\"tradeValue\"]\n",
    "            changed = True\n",
    "        \n",
    "        if changed:\n",
    "            collection.update_one({\"date\": item[\"date\"]}, {\"$set\": update})\n",
    "    \n",
    "def updateLastClose(startDate):\n",
    "    collection = client.Common.Stock\n",
    "    today = datetime.datetime.now().replace(hour=0, minute=0, second=0, microsecond=0)\n",
    "    stocks = collection.find({})\n",
    "    count = 0\n",
    "    \n",
    "    for v in stocks:\n",
    "        code = v[\"code\"]\n",
    "        updateOneStockLastClose(code, startDate)\n",
    "        count = count + 1\n",
    "        if count % 500 == 0:\n",
    "            print(\"%s processed\" % (count))\n",
    "    \n",
    "    print(\"Done\")\n",
    "            \n",
    "updateLastClose(datetime.datetime(2018,5,23))"
   ]
  },
  {
   "cell_type": "code",
   "execution_count": null,
   "metadata": {},
   "outputs": [],
   "source": []
  }
 ],
 "metadata": {
  "kernelspec": {
   "display_name": "Python 2",
   "language": "python",
   "name": "python2"
  },
  "language_info": {
   "codemirror_mode": {
    "name": "ipython",
    "version": 2
   },
   "file_extension": ".py",
   "mimetype": "text/x-python",
   "name": "python",
   "nbconvert_exporter": "python",
   "pygments_lexer": "ipython2",
   "version": "2.7.14"
  }
 },
 "nbformat": 4,
 "nbformat_minor": 2
}
