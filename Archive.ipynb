{
 "cells": [
  {
   "cell_type": "code",
   "execution_count": null,
   "metadata": {},
   "outputs": [],
   "source": [
    "with sshtunnel.SSHTunnelForwarder(\n",
    "        (\"cs\", 22),\n",
    "        ssh_username = \"root\",\n",
    "        ssh_pkey = os.path.expanduser(\"~/.ssh/id_rsa\"),\n",
    "        remote_bind_address = (\"user.mysql.citypet.cn\", 3306),\n",
    "        local_bind_address = (\"127.0.0.1\", 3306)\n",
    ") as tunnel:\n",
    "    connection = mysql.connector.connect(\n",
    "        user = \"mj\",\n",
    "        password = \"citymajiang2016\",\n",
    "        host = \"127.0.0.1\",\n",
    "        port = 3306,\n",
    "        database = \"majiang\"\n",
    "    )\n",
    "    print(connection)"
   ]
  }
 ],
 "metadata": {
  "kernelspec": {
   "display_name": "Python 2",
   "language": "python",
   "name": "python2"
  },
  "language_info": {
   "codemirror_mode": {
    "name": "ipython",
    "version": 2
   },
   "file_extension": ".py",
   "mimetype": "text/x-python",
   "name": "python",
   "nbconvert_exporter": "python",
   "pygments_lexer": "ipython2",
   "version": "2.7.14"
  }
 },
 "nbformat": 4,
 "nbformat_minor": 2
}
