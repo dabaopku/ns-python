{
 "cells": [
  {
   "cell_type": "code",
   "execution_count": 30,
   "metadata": {},
   "outputs": [],
   "source": [
    "import tushare as ts\n",
    "import pymongo\n",
    "import datetime"
   ]
  },
  {
   "cell_type": "code",
   "execution_count": 31,
   "metadata": {},
   "outputs": [],
   "source": [
    "client = pymongo.MongoClient(\"127.0.0.1\", 27017)\n"
   ]
  },
  {
   "cell_type": "code",
   "execution_count": 104,
   "metadata": {},
   "outputs": [],
   "source": [
    "def getHistoryData(code, startDate, endDate):\n",
    "    res = ts.get_k_data(code, start=startDate, end=endDate)\n",
    "    db = client.Trade\n",
    "    collection = db[code]\n",
    "    for k, v in res.iterrows():\n",
    "        date = datetime.datetime.strptime(str(v.date), \"%Y-%m-%d\")\n",
    "        item = {\n",
    "            \"date\": date,\n",
    "            \"open\": v.open,\n",
    "            \"close\": v.close,\n",
    "            \"high\": v.high,\n",
    "            \"low\": v.low,\n",
    "            \"volume\": v.volume\n",
    "        }\n",
    "\n",
    "        collection.replace_one({\"date\": date}, item, upsert=True)\n",
    "    \n",
    "    print(\"%s - %s rows\" % (code, res.shape[0]))"
   ]
  },
  {
   "cell_type": "code",
   "execution_count": null,
   "metadata": {},
   "outputs": [],
   "source": [
    "collection = client.Common.Stock\n",
    "today = datetime.datetime.now().replace(hour=0, minute=0, second=0, microsecond=0)\n",
    "stocks = collection.find({})\n",
    "for v in stocks:\n",
    "    code = v[\"code\"]\n",
    "    if \"kEndDate\" in v:\n",
    "        date = v[\"kEndDate\"] + datetime.timedelta(days=-1)\n",
    "    elif \"foundTime\" in v:\n",
    "        date = v[\"foundTime\"]\n",
    "    else:\n",
    "        date = datetime.datetime(2000, 1, 1)\n",
    "    getHistoryData(code, date.strftime(\"%Y-%m-%d\"))\n",
    "    collection.update_one({\"code\": code}, {\"$set\": {\"kEndDate\": today}})"
   ]
  },
  {
   "cell_type": "code",
   "execution_count": null,
   "metadata": {},
   "outputs": [],
   "source": []
  }
 ],
 "metadata": {
  "kernelspec": {
   "display_name": "Python 2",
   "language": "python",
   "name": "python2"
  },
  "language_info": {
   "codemirror_mode": {
    "name": "ipython",
    "version": 2
   },
   "file_extension": ".py",
   "mimetype": "text/x-python",
   "name": "python",
   "nbconvert_exporter": "python",
   "pygments_lexer": "ipython2",
   "version": "2.7.14"
  }
 },
 "nbformat": 4,
 "nbformat_minor": 2
}
