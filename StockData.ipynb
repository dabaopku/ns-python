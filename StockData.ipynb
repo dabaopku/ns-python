{
 "cells": [
  {
   "cell_type": "code",
   "execution_count": 1,
   "metadata": {},
   "outputs": [],
   "source": [
    "import tushare as ts\n",
    "import os\n",
    "import datetime\n",
    "import pymongo"
   ]
  },
  {
   "cell_type": "code",
   "execution_count": 10,
   "metadata": {},
   "outputs": [],
   "source": [
    "client = pymongo.MongoClient(\"127.0.0.1\", 27017)\n",
    "db = client.Common"
   ]
  },
  {
   "cell_type": "code",
   "execution_count": 11,
   "metadata": {},
   "outputs": [
    {
     "name": "stdout",
     "output_type": "stream",
     "text": [
      "Done\n"
     ]
    }
   ],
   "source": [
    "stockData = ts.get_stock_basics()\n",
    "stockDict = {}\n",
    "industryDict = {}\n",
    "for k, v in stockData.iterrows():\n",
    "    name = v[\"name\"].decode(\"utf-8\")\n",
    "    industry = v.industry.decode(\"utf-8\")\n",
    "    item = {\n",
    "        \"code\": k, \n",
    "        \"name\": name,\n",
    "        \"industry\": industry,\n",
    "        \"province\": v.area.decode(\"utf-8\"),\n",
    "        \"value\": v.outstanding,\n",
    "        \"pe\": v.pe\n",
    "    }\n",
    "    try:\n",
    "        time = datetime.datetime.strptime(str(v.timeToMarket), \"%Y%m%d\")\n",
    "        item[\"foundTime\"] = time\n",
    "    except:\n",
    "        pass\n",
    "    stockDict[k] = item\n",
    "    \n",
    "    if industry not in industryDict:\n",
    "        industryDict[industry] = [k]\n",
    "    else:\n",
    "        industryDict[industry].append(k)\n",
    "    \n",
    "stocks = []\n",
    "count = 0\n",
    "for k, v in stockDict.iteritems():\n",
    "    count = count + 1\n",
    "    v[\"_id\"] = count\n",
    "    v[\"concept\"] = []\n",
    "    stocks.append(v)\n",
    "    \n",
    "    \n",
    "# 概念板块\n",
    "conceptData = ts.get_concept_classified()\n",
    "conceptDict = {}\n",
    "for k, v in conceptData.iterrows():\n",
    "    code = v[\"code\"]\n",
    "    if code in stockDict:\n",
    "        value = v[\"c_name\"].decode(\"utf-8\")\n",
    "        stockDict[code][\"concept\"].append(value)\n",
    "        if value not in conceptDict:\n",
    "            conceptDict[value] = [v.code]\n",
    "        else:\n",
    "            conceptDict[value].append(v.code)\n",
    "                \n",
    "\n",
    "concepts = []\n",
    "industries = []\n",
    "for config in [[conceptDict, concepts],\n",
    "               [industryDict, industries]]:\n",
    "    count = 0\n",
    "    for k, v in config[0].iteritems():\n",
    "        count = count + 1\n",
    "        config[1].append({\n",
    "            \"_id\": count,\n",
    "            \"name\": k,\n",
    "            \"stocks\": sorted(v)\n",
    "        })\n",
    "        \n",
    "print(\"Done\")"
   ]
  },
  {
   "cell_type": "code",
   "execution_count": 12,
   "metadata": {},
   "outputs": [],
   "source": [
    "collection = db.Stock\n",
    "collection.drop()\n",
    "collection.insert_many(stocks)\n",
    "collection.create_index([(\"code\", pymongo.ASCENDING)], unique=True)\n",
    "collection.create_index([(\"name\", pymongo.ASCENDING)], unique=True)\n",
    "collection.create_index([(\"industry\", pymongo.ASCENDING)])\n",
    "collection.create_index([(\"province\", pymongo.ASCENDING)])\n",
    "collection.create_index([(\"value\", pymongo.ASCENDING)])\n",
    "collection.create_index([(\"foundTime\", pymongo.ASCENDING)])\n",
    "collection = db.Stock\n",
    "\n",
    "for config in [[\"Industry\", industries], [\"Concept\", concepts]]:\n",
    "    collection = db[config[0]]\n",
    "    collection.drop()\n",
    "    collection.insert_many(config[1])\n",
    "    collection.create_index([(\"name\", pymongo.ASCENDING)], unique=True)"
   ]
  },
  {
   "cell_type": "code",
   "execution_count": null,
   "metadata": {},
   "outputs": [],
   "source": []
  }
 ],
 "metadata": {
  "kernelspec": {
   "display_name": "Python 2",
   "language": "python",
   "name": "python2"
  },
  "language_info": {
   "codemirror_mode": {
    "name": "ipython",
    "version": 2
   },
   "file_extension": ".py",
   "mimetype": "text/x-python",
   "name": "python",
   "nbconvert_exporter": "python",
   "pygments_lexer": "ipython2",
   "version": "2.7.14"
  }
 },
 "nbformat": 4,
 "nbformat_minor": 2
}
