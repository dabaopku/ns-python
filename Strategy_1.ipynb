{
 "cells": [
  {
   "cell_type": "code",
   "execution_count": 126,
   "metadata": {},
   "outputs": [],
   "source": [
    "def Strategy_1():\n",
    "    import tushare as ts\n",
    "    import os\n",
    "    import datetime\n",
    "    import pymongo\n",
    "    import pandas\n",
    "\n",
    "    client = pymongo.MongoClient(\"127.0.0.1\", 27017)\n",
    "    \n",
    "    startDate = datetime.datetime.now() + datetime.timedelta(days=-60)\n",
    "    stocks = client.Common.Stock.find({\"foundTime\": {\"$lt\": startDate}})\n",
    "    threshold = 9.9\n",
    "    today = datetime.datetime.now().replace(hour=0, minute=0, second=0, microsecond=0)\n",
    "    found = []\n",
    "    minDays = 1000\n",
    "\n",
    "    for item in stocks:\n",
    "        code = item[\"code\"]\n",
    "        collection = client.Trade[code]\n",
    "        res = list(collection.find({}, limit=4, sort=[(\"date\", pymongo.DESCENDING)]))\n",
    "        if len(res) < 4:\n",
    "            continue\n",
    "        changes = []\n",
    "        for i in range(3):\n",
    "            if res[i+1][\"close\"] == 0:\n",
    "                d = 0\n",
    "            else:\n",
    "                d = (res[i][\"close\"] / res[i+1][\"close\"] - 1) * 100\n",
    "            changes.append(d)\n",
    "        if changes[0] < threshold or (changes[1] <= threshold and changes[2] <= threshold):\n",
    "            continue\n",
    "        days = (today - res[3][\"date\"]).days\n",
    "        if days > minDays:\n",
    "            continue\n",
    "        if days < minDays:\n",
    "            minDays = days\n",
    "            found = []\n",
    "        found.append({\n",
    "            \"code\": item[\"code\"],\n",
    "            \"name\": item[\"name\"],\n",
    "            \"changes\": changes\n",
    "        })\n",
    "\n",
    "    if len(found) > 0:\n",
    "        print pandas.DataFrame(found, columns=[\"code\", \"name\", \"changes\"])\n",
    "    else:\n",
    "        print(\"No Result\")"
   ]
  },
  {
   "cell_type": "code",
   "execution_count": 128,
   "metadata": {},
   "outputs": [
    {
     "name": "stdout",
     "output_type": "stream",
     "text": [
      "     code  name                                        changes\n",
      "0  000816  智慧农业  [10.1307189542, 10.071942446, -4.13793103448]\n",
      "1  300077  国民技术           [9.99039385207, 10.0422832981, 10.0]\n",
      "2  300104   乐视网       [9.9609375, 10.1075268817, 2.1978021978]\n",
      "3  002806  华锋股份            [10.0, 10.0094428706, 10.025974026]\n"
     ]
    }
   ],
   "source": [
    "Strategy_1()"
   ]
  },
  {
   "cell_type": "code",
   "execution_count": null,
   "metadata": {},
   "outputs": [],
   "source": []
  }
 ],
 "metadata": {
  "kernelspec": {
   "display_name": "Python 2",
   "language": "python",
   "name": "python2"
  },
  "language_info": {
   "codemirror_mode": {
    "name": "ipython",
    "version": 2
   },
   "file_extension": ".py",
   "mimetype": "text/x-python",
   "name": "python",
   "nbconvert_exporter": "python",
   "pygments_lexer": "ipython2",
   "version": "2.7.14"
  }
 },
 "nbformat": 4,
 "nbformat_minor": 2
}
