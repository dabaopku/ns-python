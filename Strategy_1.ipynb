{
 "cells": [
  {
   "cell_type": "code",
   "execution_count": 120,
   "metadata": {},
   "outputs": [],
   "source": [
    "def Strategy_1():\n",
    "    import tushare as ts\n",
    "    import os\n",
    "    import datetime\n",
    "    import pymongo\n",
    "    import pandas\n",
    "\n",
    "    client = pymongo.MongoClient(\"127.0.0.1\", 27017)\n",
    "    \n",
    "    startDate = datetime.datetime.now() + datetime.timedelta(days=-60)\n",
    "    stocks = client.Common.Stock.find({\"foundTime\": {\"$lt\": startDate}})\n",
    "    threshold = 9.9\n",
    "    today = datetime.datetime.now().replace(hour=0, minute=0, second=0, microsecond=0)\n",
    "    found = {}\n",
    "    minDays = 1000\n",
    "\n",
    "    for item in stocks:\n",
    "        code = item[\"code\"]\n",
    "        collection = client.Trade[code]\n",
    "        res = list(collection.find({}, limit=4, sort=[(\"date\", pymongo.DESCENDING)]))\n",
    "        if len(res) < 4:\n",
    "            continue\n",
    "        changes = []\n",
    "        for i in range(3):\n",
    "            if res[i+1][\"close\"] == 0:\n",
    "                d = 0\n",
    "            else:\n",
    "                d = (res[i][\"close\"] / res[i+1][\"close\"] - 1) * 100\n",
    "            changes.append(d)\n",
    "        if changes[0] < threshold or (changes[1] <= threshold and changes[2] <= threshold):\n",
    "            continue\n",
    "        days = (today - res[3][\"date\"]).days\n",
    "        if days > minDays:\n",
    "            continue\n",
    "        if days < minDays:\n",
    "            minDays = days\n",
    "            found = {}\n",
    "        found[item[\"code\"]] = res\n",
    "\n",
    "    for k, v in found.iteritems():\n",
    "        print k\n",
    "        print pandas.DataFrame(v, columns=[\"date\", \"close\", \"volume\"])\n",
    "        print \"\\n\"\n",
    "\n",
    "    print(\"Done\")"
   ]
  },
  {
   "cell_type": "code",
   "execution_count": 121,
   "metadata": {},
   "outputs": [
    {
     "name": "stdout",
     "output_type": "stream",
     "text": [
      "002181\n",
      "        date  close    volume\n",
      "0 2018-04-18   5.83  719360.0\n",
      "1 2018-04-17   5.30  705618.0\n",
      "2 2018-04-16   4.82  182746.0\n",
      "3 2018-04-13   4.38   27875.0\n",
      "\n",
      "\n",
      "002368\n",
      "        date  close    volume\n",
      "0 2018-04-18  35.07  315160.0\n",
      "1 2018-04-17  31.88  264271.0\n",
      "2 2018-04-16  33.07  309290.0\n",
      "3 2018-04-13  30.06  186420.0\n",
      "\n",
      "\n",
      "002806\n",
      "        date  close   volume\n",
      "0 2018-04-18  21.18  30429.0\n",
      "1 2018-04-17  19.25  42294.0\n",
      "2 2018-04-16  17.50  14771.0\n",
      "3 2018-04-13  18.21  11297.0\n",
      "\n",
      "\n",
      "300570\n",
      "        date  close    volume\n",
      "0 2018-04-18  22.94  220296.0\n",
      "1 2018-04-17  20.85  203951.0\n",
      "2 2018-04-16  18.95   36587.0\n",
      "3 2018-04-13  18.57   39308.0\n",
      "\n",
      "\n",
      "Done\n"
     ]
    }
   ],
   "source": [
    "Strategy_1()"
   ]
  },
  {
   "cell_type": "code",
   "execution_count": null,
   "metadata": {},
   "outputs": [],
   "source": []
  }
 ],
 "metadata": {
  "kernelspec": {
   "display_name": "Python 2",
   "language": "python",
   "name": "python2"
  },
  "language_info": {
   "codemirror_mode": {
    "name": "ipython",
    "version": 2
   },
   "file_extension": ".py",
   "mimetype": "text/x-python",
   "name": "python",
   "nbconvert_exporter": "python",
   "pygments_lexer": "ipython2",
   "version": "2.7.14"
  }
 },
 "nbformat": 4,
 "nbformat_minor": 2
}
