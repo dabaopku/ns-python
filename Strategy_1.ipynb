{
 "cells": [
  {
   "cell_type": "code",
   "execution_count": 19,
   "metadata": {},
   "outputs": [],
   "source": [
    "import tushare as ts\n",
    "import os\n",
    "import datetime\n",
    "import pymongo"
   ]
  },
  {
   "cell_type": "code",
   "execution_count": 20,
   "metadata": {},
   "outputs": [],
   "source": [
    "client = pymongo.MongoClient(\"127.0.0.1\", 27017)"
   ]
  },
  {
   "cell_type": "code",
   "execution_count": 54,
   "metadata": {},
   "outputs": [
    {
     "name": "stdout",
     "output_type": "stream",
     "text": [
      "300663\n",
      "300589\n",
      "002237\n",
      "600896\n"
     ]
    }
   ],
   "source": [
    "startDate = datetime.datetime.now() + datetime.timedelta(days=-60)\n",
    "found = {}\n",
    "stocks = client.Common.Stock.find({\"foundTime\": {\"$lt\": startDate}})\n",
    "for item in stocks:\n",
    "    code = item[\"code\"]\n",
    "    collection = client.Trade[code]\n",
    "    res = list(collection.find({}, limit=3, sort=[(\"date\", pymongo.DESCENDING)]))\n",
    "    count = 0\n",
    "    for v in res:\n",
    "        d = (v[\"close\"] / v[\"open\"] - 1) * 100\n",
    "        if d >= 9:\n",
    "            count = count + 1\n",
    "    if count >= 2:\n",
    "        found[item[\"code\"]] = res\n",
    "        \n",
    "for k, v in found.iteritems():\n",
    "    print k"
   ]
  },
  {
   "cell_type": "code",
   "execution_count": null,
   "metadata": {},
   "outputs": [],
   "source": []
  },
  {
   "cell_type": "code",
   "execution_count": null,
   "metadata": {},
   "outputs": [],
   "source": []
  }
 ],
 "metadata": {
  "kernelspec": {
   "display_name": "Python 2",
   "language": "python",
   "name": "python2"
  },
  "language_info": {
   "codemirror_mode": {
    "name": "ipython",
    "version": 2
   },
   "file_extension": ".py",
   "mimetype": "text/x-python",
   "name": "python",
   "nbconvert_exporter": "python",
   "pygments_lexer": "ipython2",
   "version": "2.7.14"
  }
 },
 "nbformat": 4,
 "nbformat_minor": 2
}
