{
 "cells": [
  {
   "cell_type": "code",
   "execution_count": null,
   "metadata": {},
   "outputs": [],
   "source": [
    "def Strategy_2():\n",
    "    import tushare as ts\n",
    "    import os\n",
    "    import datetime\n",
    "    import pymongo\n",
    "    import pandas\n",
    "\n",
    "    client = pymongo.MongoClient(\"127.0.0.1\", 27017)\n",
    "    \n",
    "    stocks = client.Common.Stock.find({})\n",
    "    today = datetime.datetime.now().replace(hour=0, minute=0, second=0, microsecond=0)\n",
    "    found = []\n",
    "    minDays = 1000\n",
    "\n",
    "    for item in stocks:\n",
    "        code = item[\"code\"]\n",
    "        collection = client.Trade[code]\n",
    "        res = list(collection.find({}, limit=10, sort=[(\"date\", pymongo.DESCENDING)]))\n",
    "        if len(res) < 10:\n",
    "            continue\n",
    "        days = (today - res[-1][\"date\"]).days\n",
    "        if days > minDays:\n",
    "            continue\n",
    "        if days < minDays:\n",
    "            minDays = days\n",
    "            found = []\n",
    "        v10 = 0\n",
    "        v3 = 0\n",
    "        p5 = 0\n",
    "        for i in range(10):\n",
    "            v10 = v10 + res[i][\"volume\"]\n",
    "            if i < 3:\n",
    "                v3 = v3 + res[i][\"volume\"]\n",
    "            if i < 5:\n",
    "                p5 = p5 + res[i][\"close\"]\n",
    "        v10 = int(v10 / 10)\n",
    "        v3 = int(v3 / 3)\n",
    "        p5 = int(p5 / 5)\n",
    "        close = res[0][\"close\"]\n",
    "        if v3 >= v10 * 2 and close >= p5:\n",
    "            item = {\n",
    "                \"code\": code,\n",
    "                \"name\": item[\"name\"],\n",
    "                \"volume_3\": v3,\n",
    "                \"volume_10\": v10,\n",
    "                \"price_today\": close,\n",
    "                \"price_5\": p5,\n",
    "                \"volume_factor\": (1.0 * v3 / v10),\n",
    "            }\n",
    "            found.append(item)\n",
    "\n",
    "\n",
    "    if len(found) > 0:\n",
    "        print pandas.DataFrame(found)\n",
    "    else:\n",
    "        print(\"No Result\")"
   ]
  },
  {
   "cell_type": "code",
   "execution_count": null,
   "metadata": {},
   "outputs": [],
   "source": [
    "Strategy_2()"
   ]
  },
  {
   "cell_type": "code",
   "execution_count": null,
   "metadata": {},
   "outputs": [],
   "source": []
  }
 ],
 "metadata": {
  "kernelspec": {
   "display_name": "Python 2",
   "language": "python",
   "name": "python2"
  },
  "language_info": {
   "codemirror_mode": {
    "name": "ipython",
    "version": 2
   },
   "file_extension": ".py",
   "mimetype": "text/x-python",
   "name": "python",
   "nbconvert_exporter": "python",
   "pygments_lexer": "ipython2",
   "version": "2.7.14"
  }
 },
 "nbformat": 4,
 "nbformat_minor": 2
}
