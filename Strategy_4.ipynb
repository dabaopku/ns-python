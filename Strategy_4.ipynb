{
 "cells": [
  {
   "cell_type": "code",
   "execution_count": 73,
   "metadata": {
    "scrolled": true
   },
   "outputs": [
    {
     "name": "stdout",
     "output_type": "stream",
     "text": [
      "     code  name    factor  amount(亿)   value(亿)\n",
      "0  300634  彩讯股份  0.651501  15.512207  23.809951\n",
      "1  002864  盘龙药业  0.565316   7.885584  13.948979\n",
      "2  300504  天邑股份  0.477885  15.139965  31.681163\n",
      "3  300624  万兴科技  0.419947  10.504566  25.014000\n",
      "4  300715  凯伦股份  0.411828   4.353898  10.572120\n",
      "5  300739  明阳电路  0.408891   6.007268  14.691600\n",
      "6  002930  宏川智慧  0.393257   6.906232  17.561621\n",
      "7  300730  科创信息  0.389805   4.196161  10.764768\n",
      "8  002908  德生科技  0.385816   4.810803  12.469160\n",
      "9  002856  美芝股份  0.369244   2.938925   7.959294\n"
     ]
    }
   ],
   "source": [
    "def Strategy_4():\n",
    "    import tushare as ts\n",
    "    import os\n",
    "    import datetime\n",
    "    import pymongo\n",
    "    import pandas\n",
    "\n",
    "    client = pymongo.MongoClient(\"127.0.0.1\", 27017)\n",
    "    \n",
    "    today = datetime.datetime.now().replace(hour=0, minute=0, second=0, microsecond=0)\n",
    "    stocks = client.Common.Stock.find({\n",
    "        \"$and\": [\n",
    "            {\"value\": {\"$exists\": True}},\n",
    "            {\"value\": {\"$ne\": 0}}\n",
    "        ]})\n",
    "\n",
    "    found = []\n",
    "\n",
    "    for item in stocks:\n",
    "        code = item[\"code\"]\n",
    "        collection = client.Trade[code]\n",
    "        res = collection.find_one({\"date\": today})\n",
    "        if not res:\n",
    "            continue\n",
    "        if \"last_close\" not in res:\n",
    "            continue\n",
    "        if res[\"close\"] <= res[\"last_close\"]:\n",
    "            continue\n",
    "        value = res[\"tradeValue\"] * 10000\n",
    "        if \"amount\" in res:\n",
    "            amount = res[\"amount\"]\n",
    "        else:\n",
    "            amount = res[\"volume\"] * (res[\"open\"] + res[\"close\"]) / 2 * 100\n",
    "        item = {\n",
    "            \"code\": code,\n",
    "            \"name\": item[\"name\"],\n",
    "            \"value(亿)\": value / 1e8,\n",
    "            \"amount(亿)\": amount / 1e8,\n",
    "            \"factor\": amount / value\n",
    "        }\n",
    "        found.append(item)\n",
    "        \n",
    "    found = sorted(found, key=lambda item: item[\"factor\"], reverse=True)\n",
    "\n",
    "    print(pandas.DataFrame(found[:10], columns=[\"code\", \"name\", \"factor\", \"amount(亿)\", \"value(亿)\"]))\n",
    "\n",
    "Strategy_4()"
   ]
  },
  {
   "cell_type": "code",
   "execution_count": 25,
   "metadata": {},
   "outputs": [],
   "source": [
    "import tushare as ts\n",
    "import os\n",
    "import datetime\n",
    "import pymongo\n",
    "import pandas"
   ]
  },
  {
   "cell_type": "code",
   "execution_count": 26,
   "metadata": {},
   "outputs": [],
   "source": [
    "client = pymongo.MongoClient(\"127.0.0.1\", 27017)"
   ]
  },
  {
   "cell_type": "code",
   "execution_count": null,
   "metadata": {},
   "outputs": [],
   "source": []
  }
 ],
 "metadata": {
  "kernelspec": {
   "display_name": "Python 2",
   "language": "python",
   "name": "python2"
  },
  "language_info": {
   "codemirror_mode": {
    "name": "ipython",
    "version": 2
   },
   "file_extension": ".py",
   "mimetype": "text/x-python",
   "name": "python",
   "nbconvert_exporter": "python",
   "pygments_lexer": "ipython2",
   "version": "2.7.14"
  }
 },
 "nbformat": 4,
 "nbformat_minor": 2
}
