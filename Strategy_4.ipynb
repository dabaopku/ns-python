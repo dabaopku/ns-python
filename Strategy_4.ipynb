{
 "cells": [
  {
   "cell_type": "code",
   "execution_count": 4,
   "metadata": {},
   "outputs": [],
   "source": [
    "import tushare as ts\n",
    "import os\n",
    "import datetime\n",
    "import pymongo\n",
    "import pandas\n",
    "import csv"
   ]
  },
  {
   "cell_type": "code",
   "execution_count": 2,
   "metadata": {},
   "outputs": [],
   "source": [
    "client = pymongo.MongoClient(\"127.0.0.1\", 27017)"
   ]
  },
  {
   "cell_type": "code",
   "execution_count": 3,
   "metadata": {},
   "outputs": [],
   "source": [
    "root_path = os.path.expanduser(\"/Users/dabao/Desktop/trading-data.20180427\")"
   ]
  },
  {
   "cell_type": "code",
   "execution_count": 97,
   "metadata": {},
   "outputs": [],
   "source": [
    "code = \"600000\"\n",
    "file_name = \"%s/stock data/sh%s.csv\" % (root_path, code)\n",
    "df = pandas.read_csv(file_name)"
   ]
  },
  {
   "cell_type": "code",
   "execution_count": 112,
   "metadata": {},
   "outputs": [
    {
     "name": "stdout",
     "output_type": "stream",
     "text": [
      "(<pymongo.results.UpdateResult object at 0x10c8afef0>, {'volume': 234507.83, 'tradeValue': 32628469.885577995, 'high': 11.67, 'amount': 272328553.0, 'last_close': 11.57, 'low': 11.55, 'date': Timestamp('2018-04-27 00:00:00'), 'close': 11.61, 'open': 11.58, 'change': 0.3457})\n"
     ]
    }
   ],
   "source": [
    "df = pandas.read_csv(file_name)\n",
    "last_close = df[\"close\"][1:].tolist() + [0]\n",
    "df.insert(6, \"last_close\", last_close)\n",
    "df[\"amount\"] = df[\"money\"]\n",
    "df[\"tradeValue\"] = df[\"traded_market_value\"] / 10000\n",
    "df[\"date\"] = df[\"date\"].map(lambda x: datetime.datetime.strptime(x, \"%Y-%m-%d\"))\n",
    "df[\"volume\"] = df[\"volume\"] / 100\n",
    "df[\"change\"] = df[\"change\"] * 100\n",
    "\n",
    "columns = [\"date\", \"open\", \"close\", \"high\", \"low\", \"last_close\",\n",
    "           \"change\", \"volume\", \"amount\", \"tradeValue\"] \n",
    "\n",
    "data = df[columns].T.to_dict().values()\n",
    "\n",
    "count = 0\n",
    "collection = client.Trade[code]\n",
    "for item in data:\n",
    "    res = collection.replace_one({\"date\": item[\"date\"]}, item)\n",
    "    print(res, item)\n",
    "    count = count + 1\n",
    "    if count > 0:\n",
    "        break\n",
    "    "
   ]
  },
  {
   "cell_type": "code",
   "execution_count": null,
   "metadata": {},
   "outputs": [],
   "source": [
    "df[\"date\"].map(lambda x: datetime.datetime.strptime(x, \"%Y-%m-%d\"))"
   ]
  },
  {
   "cell_type": "code",
   "execution_count": null,
   "metadata": {},
   "outputs": [],
   "source": []
  }
 ],
 "metadata": {
  "kernelspec": {
   "display_name": "Python 2",
   "language": "python",
   "name": "python2"
  },
  "language_info": {
   "codemirror_mode": {
    "name": "ipython",
    "version": 2
   },
   "file_extension": ".py",
   "mimetype": "text/x-python",
   "name": "python",
   "nbconvert_exporter": "python",
   "pygments_lexer": "ipython2",
   "version": "2.7.14"
  }
 },
 "nbformat": 4,
 "nbformat_minor": 2
}
