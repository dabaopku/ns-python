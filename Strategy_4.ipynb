{
 "cells": [
  {
   "cell_type": "code",
   "execution_count": 71,
   "metadata": {},
   "outputs": [
    {
     "name": "stdout",
     "output_type": "stream",
     "text": [
      "     code  name    factor  amount(亿)   value(亿)\n",
      "0  300634  彩讯股份  0.706884  15.272515  21.605400\n",
      "1  300739  明阳电路  0.611375   9.226874  15.092000\n",
      "2  603937  丽岛新材  0.594392   7.526991  12.663350\n",
      "3  300667  必创科技  0.577678   6.012127  10.407400\n",
      "4  603897  长城科技  0.504811  10.435496  20.672100\n",
      "5  300675   建科院  0.387464   6.120391  15.796014\n",
      "6  002806  华锋股份  0.336336   4.841301  14.394224\n",
      "7  300077  国民技术  0.294075  18.264057  62.106712\n",
      "8  300514   友讯达  0.279928   2.649522   9.465000\n",
      "9  603813  原尚股份  0.252288   1.740002   6.896875\n"
     ]
    }
   ],
   "source": [
    "def Strategy_4():\n",
    "    import tushare as ts\n",
    "    import os\n",
    "    import datetime\n",
    "    import pymongo\n",
    "    import pandas\n",
    "\n",
    "    client = pymongo.MongoClient(\"127.0.0.1\", 27017)\n",
    "    \n",
    "    today = datetime.datetime.now().replace(hour=0, minute=0, second=0, microsecond=0)\n",
    "    stocks = client.Common.Stock.find({\n",
    "        \"$and\": [\n",
    "            {\"value\": {\"$exists\": True}},\n",
    "            {\"value\": {\"$ne\": 0}}\n",
    "        ]})\n",
    "\n",
    "    found = []\n",
    "\n",
    "    for item in stocks:\n",
    "        code = item[\"code\"]\n",
    "        collection = client.Trade[code]\n",
    "        res = collection.find_one({\"date\": today})\n",
    "        if not res:\n",
    "            continue\n",
    "        if \"last_close\" not in res:\n",
    "            continue\n",
    "        if res[\"close\"] <= res[\"last_close\"]:\n",
    "            continue\n",
    "        value = res[\"tradeValue\"] * 10000\n",
    "        if \"amount\" in res:\n",
    "            amount = res[\"amount\"]\n",
    "        else:\n",
    "            amount = res[\"volume\"] * (res[\"open\"] + res[\"close\"]) / 2 * 100\n",
    "        item = {\n",
    "            \"code\": code,\n",
    "            \"name\": item[\"name\"],\n",
    "            \"value(亿)\": value / 1e8,\n",
    "            \"amount(亿)\": amount / 1e8,\n",
    "            \"factor\": amount / value\n",
    "        }\n",
    "        found.append(item)\n",
    "        \n",
    "    found = sorted(found, key=lambda item: item[\"factor\"], reverse=True)\n",
    "\n",
    "    print(pandas.DataFrame(found[:10], columns=[\"code\", \"name\", \"factor\", \"amount(亿)\", \"value(亿)\"]))\n",
    "\n",
    "Strategy_4()"
   ]
  },
  {
   "cell_type": "code",
   "execution_count": 25,
   "metadata": {},
   "outputs": [],
   "source": [
    "import tushare as ts\n",
    "import os\n",
    "import datetime\n",
    "import pymongo\n",
    "import pandas"
   ]
  },
  {
   "cell_type": "code",
   "execution_count": 26,
   "metadata": {},
   "outputs": [],
   "source": [
    "client = pymongo.MongoClient(\"127.0.0.1\", 27017)"
   ]
  },
  {
   "cell_type": "code",
   "execution_count": null,
   "metadata": {},
   "outputs": [],
   "source": []
  }
 ],
 "metadata": {
  "kernelspec": {
   "display_name": "Python 2",
   "language": "python",
   "name": "python2"
  },
  "language_info": {
   "codemirror_mode": {
    "name": "ipython",
    "version": 2
   },
   "file_extension": ".py",
   "mimetype": "text/x-python",
   "name": "python",
   "nbconvert_exporter": "python",
   "pygments_lexer": "ipython2",
   "version": "2.7.14"
  }
 },
 "nbformat": 4,
 "nbformat_minor": 2
}
