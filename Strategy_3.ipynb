{
 "cells": [
  {
   "cell_type": "code",
   "execution_count": 47,
   "metadata": {},
   "outputs": [],
   "source": [
    "def Strategy_3():\n",
    "    import tushare as ts\n",
    "    import os\n",
    "    import datetime\n",
    "    import pymongo\n",
    "    import pandas\n",
    "\n",
    "    client = pymongo.MongoClient(\"127.0.0.1\", 27017)\n",
    "    \n",
    "    stocks = client.Common.Stock.find({})\n",
    "    today = datetime.datetime.now().replace(hour=0, minute=0, second=0, microsecond=0)\n",
    "    found = []\n",
    "    minDays = 1000\n",
    "\n",
    "    for item in stocks:\n",
    "        code = item[\"code\"]\n",
    "        collection = client.Trade[code]\n",
    "        res = list(collection.find({}, limit=10, sort=[(\"date\", pymongo.DESCENDING)]))\n",
    "        if len(res) < 10:\n",
    "            continue\n",
    "        days = (today - res[-1][\"date\"]).days\n",
    "        if days > minDays:\n",
    "            continue\n",
    "        if res[0][\"close\"] < res[1][\"close\"]:\n",
    "            continue\n",
    "        if days < minDays:\n",
    "            minDays = days\n",
    "            found = []\n",
    "        v10 = 0\n",
    "        volumeDays = 2\n",
    "        vv = 0\n",
    "        p5 = 0\n",
    "        for i in range(10):\n",
    "            v10 = v10 + res[i][\"volume\"]\n",
    "            if i < volumeDays:\n",
    "                vv = vv + res[i][\"volume\"]\n",
    "            if i < 5:\n",
    "                p5 = p5 + res[i][\"close\"]\n",
    "        v10 = int(v10 / 10)\n",
    "        vv = int(vv / volumeDays)\n",
    "        p5 = int(p5 / 5)\n",
    "        close = res[0][\"close\"]\n",
    "        if vv >= v10 * 2 and close >= p5:\n",
    "            item = {\n",
    "                \"code\": code,\n",
    "                \"name\": item[\"name\"],\n",
    "                \"volume_\" + str(volumeDays): vv,\n",
    "                \"volume_10\": v10,\n",
    "                \"price_today\": close,\n",
    "                \"price_5\": p5,\n",
    "                \"factor\": (1.0 * vv / v10),\n",
    "            }\n",
    "            found.append(item)\n",
    "\n",
    "        found = sorted(found, key=lambda item: item[\"factor\"], reverse=True)\n",
    "\n",
    "    if len(found) > 0:\n",
    "        print pandas.DataFrame(found[:10])\n",
    "    else:\n",
    "        print(\"No Result\")"
   ]
  },
  {
   "cell_type": "code",
   "execution_count": 48,
   "metadata": {},
   "outputs": [
    {
     "name": "stdout",
     "output_type": "stream",
     "text": [
      "     code    factor  name  price_5  price_today  volume_10  volume_2\n",
      "0  300634  3.794619  彩讯股份       47        54.00      58389    221564\n",
      "1  002220  3.449339  天宝食品        6         7.38      21318     73533\n",
      "2  002077  3.133448  大港股份       10        11.77      36059    112989\n",
      "3  002290  2.988721  中科新材       11        11.77      19416     58029\n",
      "4  002436  2.907861  兴森科技        5         5.83     271437    789301\n",
      "5  600468  2.901667  百利电气        5         6.29      47278    137185\n",
      "6  002931  2.882117  锋龙股份       22        41.98       1247      3594\n",
      "7  002631  2.810230  德尔未来        8         9.69      65279    183449\n",
      "8  600562  2.799158  国睿科技       24        27.69      69393    194242\n",
      "9  002806  2.755910  华锋股份       21        25.63      36548    100723\n"
     ]
    }
   ],
   "source": [
    "Strategy_3()"
   ]
  },
  {
   "cell_type": "code",
   "execution_count": null,
   "metadata": {},
   "outputs": [],
   "source": []
  }
 ],
 "metadata": {
  "kernelspec": {
   "display_name": "Python 2",
   "language": "python",
   "name": "python2"
  },
  "language_info": {
   "codemirror_mode": {
    "name": "ipython",
    "version": 2
   },
   "file_extension": ".py",
   "mimetype": "text/x-python",
   "name": "python",
   "nbconvert_exporter": "python",
   "pygments_lexer": "ipython2",
   "version": "2.7.14"
  }
 },
 "nbformat": 4,
 "nbformat_minor": 2
}
