{
 "cells": [
  {
   "cell_type": "code",
   "execution_count": 47,
   "metadata": {},
   "outputs": [],
   "source": [
    "def Strategy_3():\n",
    "    import tushare as ts\n",
    "    import os\n",
    "    import datetime\n",
    "    import pymongo\n",
    "    import pandas\n",
    "\n",
    "    client = pymongo.MongoClient(\"127.0.0.1\", 27017)\n",
    "    \n",
    "    stocks = client.Common.Stock.find({})\n",
    "    today = datetime.datetime.now().replace(hour=0, minute=0, second=0, microsecond=0)\n",
    "    found = []\n",
    "    minDays = 1000\n",
    "\n",
    "    for item in stocks:\n",
    "        code = item[\"code\"]\n",
    "        collection = client.Trade[code]\n",
    "        res = list(collection.find({}, limit=10, sort=[(\"date\", pymongo.DESCENDING)]))\n",
    "        if len(res) < 10:\n",
    "            continue\n",
    "        days = (today - res[-1][\"date\"]).days\n",
    "        if days > minDays:\n",
    "            continue\n",
    "        if res[0][\"close\"] < res[1][\"close\"]:\n",
    "            continue\n",
    "        if days < minDays:\n",
    "            minDays = days\n",
    "            found = []\n",
    "        v10 = 0\n",
    "        volumeDays = 2\n",
    "        vv = 0\n",
    "        p5 = 0\n",
    "        for i in range(10):\n",
    "            v10 = v10 + res[i][\"volume\"]\n",
    "            if i < volumeDays:\n",
    "                vv = vv + res[i][\"volume\"]\n",
    "            if i < 5:\n",
    "                p5 = p5 + res[i][\"close\"]\n",
    "        v10 = int(v10 / 10)\n",
    "        vv = int(vv / volumeDays)\n",
    "        p5 = int(p5 / 5)\n",
    "        close = res[0][\"close\"]\n",
    "        if vv >= v10 * 2 and close >= p5:\n",
    "            item = {\n",
    "                \"code\": code,\n",
    "                \"name\": item[\"name\"],\n",
    "                \"volume_\" + str(volumeDays): vv,\n",
    "                \"volume_10\": v10,\n",
    "                \"price_today\": close,\n",
    "                \"price_5\": p5,\n",
    "                \"factor\": (1.0 * vv / v10),\n",
    "            }\n",
    "            found.append(item)\n",
    "\n",
    "        found = sorted(found, key=lambda item: item[\"factor\"], reverse=True)\n",
    "\n",
    "    if len(found) > 0:\n",
    "        print pandas.DataFrame(found[:10])\n",
    "    else:\n",
    "        print(\"No Result\")"
   ]
  },
  {
   "cell_type": "code",
   "execution_count": 50,
   "metadata": {},
   "outputs": [
    {
     "name": "stdout",
     "output_type": "stream",
     "text": [
      "     code    factor   name  price_5  price_today  volume_10  volume_2\n",
      "0  002931  4.264010   锋龙股份       35        50.80       8155     34773\n",
      "1  601518  3.603308   吉林高速        3         3.95     108147    389687\n",
      "2  600853  3.513564   龙建股份        4         5.10      82021    288186\n",
      "3  000755  3.183396  *ST三维        5         5.27      27187     86547\n",
      "4  600370  3.114625    三房巷        2         3.05      57867    180234\n",
      "5  002691  3.043113   冀凯股份       23        25.40      14149     43057\n",
      "6  600738  3.006270   兰州民百        7         7.63      20575     61854\n",
      "7  300537  3.005118   广信材料       17        19.27      45522    136799\n",
      "8  600695  2.777235   绿庭投资        8         8.02      26207     72783\n",
      "9  002627  2.718123   宜昌交运       18        19.97      14556     39565\n"
     ]
    }
   ],
   "source": [
    "Strategy_3()"
   ]
  },
  {
   "cell_type": "code",
   "execution_count": null,
   "metadata": {},
   "outputs": [],
   "source": []
  }
 ],
 "metadata": {
  "kernelspec": {
   "display_name": "Python 2",
   "language": "python",
   "name": "python2"
  },
  "language_info": {
   "codemirror_mode": {
    "name": "ipython",
    "version": 2
   },
   "file_extension": ".py",
   "mimetype": "text/x-python",
   "name": "python",
   "nbconvert_exporter": "python",
   "pygments_lexer": "ipython2",
   "version": "2.7.14"
  }
 },
 "nbformat": 4,
 "nbformat_minor": 2
}
