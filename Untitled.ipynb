{
 "cells": [
  {
   "cell_type": "code",
   "execution_count": 101,
   "metadata": {},
   "outputs": [],
   "source": [
    "import pymongo\n",
    "import os\n",
    "import sys\n",
    "import pandas\n",
    "import datetime\n",
    "import re\n",
    "import json"
   ]
  },
  {
   "cell_type": "code",
   "execution_count": 106,
   "metadata": {},
   "outputs": [],
   "source": [
    "start_date = datetime.datetime(2018, 6, 1)\n",
    "client = pymongo.MongoClient(\"127.0.0.1\")\n",
    "db = client.Trade\n",
    "\n",
    "def process_file(code):\n",
    "    collection = db[code]\n",
    "    items = []\n",
    "    for item in collection.find({\"date\": {\"$gt\": start_date}}):\n",
    "        item[\"tradeValue\"] = item[\"tradeValue\"] * 10000\n",
    "        change = 0\n",
    "        if item[\"last_close\"] > 0:\n",
    "            change = item[\"close\"] / item[\"last_close\"] * 100 - 100\n",
    "        item[\"change\"] = change\n",
    "        item[\"date\"] = datetime.datetime.strftime(item[\"date\"], \"%Y-%m-%d\")\n",
    "        del item[\"_id\"]\n",
    "        item[\"code\"] = code\n",
    "        \n",
    "        items.append(item)\n",
    "    \n",
    "    with open(folder + code + \".json\", \"w\") as f:\n",
    "        json.dump(items, f)\n",
    "    \n",
    "folder = \"/Users/dabao/Desktop/x/\"\n",
    "process_file(\"600000\")"
   ]
  },
  {
   "cell_type": "code",
   "execution_count": 113,
   "metadata": {},
   "outputs": [
    {
     "name": "stdout",
     "output_type": "stream",
     "text": [
      "Done\n"
     ]
    }
   ],
   "source": [
    "for k in client.Common.Stock.find():\n",
    "    process_file(k[\"code\"])\n",
    "print(\"Done\")"
   ]
  },
  {
   "cell_type": "code",
   "execution_count": null,
   "metadata": {},
   "outputs": [],
   "source": []
  },
  {
   "cell_type": "code",
   "execution_count": null,
   "metadata": {},
   "outputs": [],
   "source": []
  }
 ],
 "metadata": {
  "kernelspec": {
   "display_name": "Python 2",
   "language": "python",
   "name": "python2"
  },
  "language_info": {
   "codemirror_mode": {
    "name": "ipython",
    "version": 2
   },
   "file_extension": ".py",
   "mimetype": "text/x-python",
   "name": "python",
   "nbconvert_exporter": "python",
   "pygments_lexer": "ipython2",
   "version": "2.7.14"
  }
 },
 "nbformat": 4,
 "nbformat_minor": 2
}
